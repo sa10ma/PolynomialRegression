{
 "cells": [
  {
   "cell_type": "code",
   "execution_count": 18,
   "id": "60ec849f",
   "metadata": {},
   "outputs": [],
   "source": [
    "import pandas as pd\n",
    "import numpy as np\n",
    "from sklearn.preprocessing import OneHotEncoder\n",
    "import matplotlib.pyplot as plt\n",
    "import seaborn as sns \n",
    "from sklearn import linear_model\n",
    "from sklearn import metrics\n",
    "from sklearn.model_selection import train_test_split\n",
    "from sklearn.metrics import mean_squared_error, r2_score"
   ]
  },
  {
   "cell_type": "code",
   "execution_count": 19,
   "id": "ecc8a155",
   "metadata": {},
   "outputs": [],
   "source": [
    "df = pd.read_csv(\"assignment2dataset.csv\")"
   ]
  },
  {
   "cell_type": "code",
   "execution_count": 20,
   "id": "12d05b68",
   "metadata": {},
   "outputs": [],
   "source": [
    "#df.describe()"
   ]
  },
  {
   "cell_type": "code",
   "execution_count": 21,
   "id": "a6996fe7",
   "metadata": {},
   "outputs": [
    {
     "name": "stdout",
     "output_type": "stream",
     "text": [
      "<class 'pandas.core.frame.DataFrame'>\n",
      "RangeIndex: 10000 entries, 0 to 9999\n",
      "Data columns (total 6 columns):\n",
      " #   Column                            Non-Null Count  Dtype  \n",
      "---  ------                            --------------  -----  \n",
      " 0   Hours Studied                     10000 non-null  int64  \n",
      " 1   Previous Scores                   10000 non-null  int64  \n",
      " 2   Extracurricular Activities        10000 non-null  object \n",
      " 3   Sleep Hours                       10000 non-null  int64  \n",
      " 4   Sample Question Papers Practiced  10000 non-null  int64  \n",
      " 5   Performance Index                 10000 non-null  float64\n",
      "dtypes: float64(1), int64(4), object(1)\n",
      "memory usage: 468.9+ KB\n"
     ]
    }
   ],
   "source": [
    "df.info()"
   ]
  },
  {
   "cell_type": "code",
   "execution_count": 22,
   "id": "25c6eac4",
   "metadata": {
    "scrolled": false
   },
   "outputs": [
    {
     "data": {
      "text/plain": [
       "Extracurricular Activities\n",
       "No                            5052\n",
       "Yes                           4948\n",
       "dtype: int64"
      ]
     },
     "execution_count": 22,
     "metadata": {},
     "output_type": "execute_result"
    }
   ],
   "source": [
    "#df.iloc[:, 2:3].value_counts()"
   ]
  },
  {
   "cell_type": "code",
   "execution_count": 23,
   "id": "7f901796",
   "metadata": {},
   "outputs": [],
   "source": [
    "ohe = OneHotEncoder() \n",
    "encoded = pd.DataFrame(ohe.fit_transform(df[['Extracurricular Activities']]).toarray())\n",
    "encoded.set_axis(['Extracurricular-NO', 'Extracurricular-YES'], axis='columns', inplace=True)\n",
    "df = df.join(encoded)\n",
    "#df"
   ]
  },
  {
   "cell_type": "code",
   "execution_count": 24,
   "id": "107f7f66",
   "metadata": {},
   "outputs": [],
   "source": [
    "df.drop(labels=['Extracurricular Activities', 'Extracurricular-NO'], axis=1, inplace=True)"
   ]
  },
  {
   "cell_type": "code",
   "execution_count": 25,
   "id": "60e1dc96",
   "metadata": {
    "scrolled": false
   },
   "outputs": [
    {
     "data": {
      "text/html": [
       "<div>\n",
       "<style scoped>\n",
       "    .dataframe tbody tr th:only-of-type {\n",
       "        vertical-align: middle;\n",
       "    }\n",
       "\n",
       "    .dataframe tbody tr th {\n",
       "        vertical-align: top;\n",
       "    }\n",
       "\n",
       "    .dataframe thead th {\n",
       "        text-align: right;\n",
       "    }\n",
       "</style>\n",
       "<table border=\"1\" class=\"dataframe\">\n",
       "  <thead>\n",
       "    <tr style=\"text-align: right;\">\n",
       "      <th></th>\n",
       "      <th>Hours Studied</th>\n",
       "      <th>Previous Scores</th>\n",
       "      <th>Sleep Hours</th>\n",
       "      <th>Sample Question Papers Practiced</th>\n",
       "      <th>Performance Index</th>\n",
       "      <th>Extracurricular-YES</th>\n",
       "    </tr>\n",
       "  </thead>\n",
       "  <tbody>\n",
       "    <tr>\n",
       "      <th>Hours Studied</th>\n",
       "      <td>1.000000</td>\n",
       "      <td>-0.012390</td>\n",
       "      <td>0.001245</td>\n",
       "      <td>0.017463</td>\n",
       "      <td>0.373730</td>\n",
       "      <td>0.003873</td>\n",
       "    </tr>\n",
       "    <tr>\n",
       "      <th>Previous Scores</th>\n",
       "      <td>-0.012390</td>\n",
       "      <td>1.000000</td>\n",
       "      <td>0.005944</td>\n",
       "      <td>0.007888</td>\n",
       "      <td>0.915189</td>\n",
       "      <td>0.008369</td>\n",
       "    </tr>\n",
       "    <tr>\n",
       "      <th>Sleep Hours</th>\n",
       "      <td>0.001245</td>\n",
       "      <td>0.005944</td>\n",
       "      <td>1.000000</td>\n",
       "      <td>0.003990</td>\n",
       "      <td>0.048106</td>\n",
       "      <td>-0.023284</td>\n",
       "    </tr>\n",
       "    <tr>\n",
       "      <th>Sample Question Papers Practiced</th>\n",
       "      <td>0.017463</td>\n",
       "      <td>0.007888</td>\n",
       "      <td>0.003990</td>\n",
       "      <td>1.000000</td>\n",
       "      <td>0.043268</td>\n",
       "      <td>0.013103</td>\n",
       "    </tr>\n",
       "    <tr>\n",
       "      <th>Performance Index</th>\n",
       "      <td>0.373730</td>\n",
       "      <td>0.915189</td>\n",
       "      <td>0.048106</td>\n",
       "      <td>0.043268</td>\n",
       "      <td>1.000000</td>\n",
       "      <td>0.024525</td>\n",
       "    </tr>\n",
       "    <tr>\n",
       "      <th>Extracurricular-YES</th>\n",
       "      <td>0.003873</td>\n",
       "      <td>0.008369</td>\n",
       "      <td>-0.023284</td>\n",
       "      <td>0.013103</td>\n",
       "      <td>0.024525</td>\n",
       "      <td>1.000000</td>\n",
       "    </tr>\n",
       "  </tbody>\n",
       "</table>\n",
       "</div>"
      ],
      "text/plain": [
       "                                  Hours Studied  Previous Scores  Sleep Hours  \\\n",
       "Hours Studied                          1.000000        -0.012390     0.001245   \n",
       "Previous Scores                       -0.012390         1.000000     0.005944   \n",
       "Sleep Hours                            0.001245         0.005944     1.000000   \n",
       "Sample Question Papers Practiced       0.017463         0.007888     0.003990   \n",
       "Performance Index                      0.373730         0.915189     0.048106   \n",
       "Extracurricular-YES                    0.003873         0.008369    -0.023284   \n",
       "\n",
       "                                  Sample Question Papers Practiced  \\\n",
       "Hours Studied                                             0.017463   \n",
       "Previous Scores                                           0.007888   \n",
       "Sleep Hours                                               0.003990   \n",
       "Sample Question Papers Practiced                          1.000000   \n",
       "Performance Index                                         0.043268   \n",
       "Extracurricular-YES                                       0.013103   \n",
       "\n",
       "                                  Performance Index  Extracurricular-YES  \n",
       "Hours Studied                              0.373730             0.003873  \n",
       "Previous Scores                            0.915189             0.008369  \n",
       "Sleep Hours                                0.048106            -0.023284  \n",
       "Sample Question Papers Practiced           0.043268             0.013103  \n",
       "Performance Index                          1.000000             0.024525  \n",
       "Extracurricular-YES                        0.024525             1.000000  "
      ]
     },
     "execution_count": 25,
     "metadata": {},
     "output_type": "execute_result"
    }
   ],
   "source": [
    "df.corr()"
   ]
  },
  {
   "cell_type": "code",
   "execution_count": 26,
   "id": "66e19442",
   "metadata": {},
   "outputs": [
    {
     "data": {
      "text/plain": [
       "<AxesSubplot:>"
      ]
     },
     "execution_count": 26,
     "metadata": {},
     "output_type": "execute_result"
    },
    {
     "data": {
      "image/png": "[encoded data removed]",
      "text/plain": [
       "<Figure size 432x288 with 2 Axes>"
      ]
     },
     "metadata": {
      "needs_background": "light"
     },
     "output_type": "display_data"
    }
   ],
   "source": [
    "#plotting correlation matrix \n",
    "sns.heatmap(df.corr(), cmap=\"Greens\", annot=True)"
   ]
  },
  {
   "cell_type": "markdown",
   "id": "f09b0664",
   "metadata": {},
   "source": [
    "Since Extracurricular Activities is originally categorical, a better way to find its correlation with 'Performance Index' would be by Point-Biserial Correlation. It is a test that is suitable for exploring the relationship between a single binary variable (Extracurricular Activities) and a continuos variable(Performance Index)."
   ]
  },
  {
   "cell_type": "code",
   "execution_count": 27,
   "id": "1e4b0600",
   "metadata": {},
   "outputs": [
    {
     "name": "stdout",
     "output_type": "stream",
     "text": [
      "Point-Biserial Correlation: 0.024524946967550535\n",
      "p-value: 0.014184491568632522\n"
     ]
    }
   ],
   "source": [
    "from scipy import stats\n",
    "\n",
    "extracurricular_activities = df[\"Extracurricular-YES\"]\n",
    "performance_index = df[\"Performance Index\"]\n",
    "\n",
    "# Calculate the point-biserial correlation coefficient\n",
    "point_biserial_corr, p_value = stats.pointbiserialr(extracurricular_activities, performance_index)\n",
    "\n",
    "# Print the correlation coefficient and p-value\n",
    "print(\"Point-Biserial Correlation:\", point_biserial_corr)\n",
    "print(\"p-value:\", p_value)"
   ]
  },
  {
   "cell_type": "code",
   "execution_count": 28,
   "id": "1b04d8fe",
   "metadata": {},
   "outputs": [],
   "source": [
    "#df.columns"
   ]
  },
  {
   "cell_type": "code",
   "execution_count": 29,
   "id": "9429124d",
   "metadata": {},
   "outputs": [],
   "source": [
    "df_short = df.copy()\n",
    "df_short.columns = ['Hrs', 'Scores', 'Sleep', 'Ques', 'Performance', 'Yes']\n",
    "\n",
    "#df_short"
   ]
  },
  {
   "cell_type": "code",
   "execution_count": 30,
   "id": "43e1df8e",
   "metadata": {
    "scrolled": true
   },
   "outputs": [],
   "source": [
    "X = df_short[['Scores', 'Hrs']]\n",
    "Y = df_short[['Performance']]"
   ]
  },
  {
   "cell_type": "code",
   "execution_count": 31,
   "id": "27bf2c14",
   "metadata": {},
   "outputs": [],
   "source": [
    "def polynomial_fts(X,degree):\n",
    "   \n",
    "    \"\"\"idea: for degree 1, the features are the same as input X\n",
    "    for each degree, we multiply each column in X with the dataframe resulting from the previous degree, \n",
    "    but only take columns which are non-repeated. \n",
    "    for example, if X.columns = [a,b,c] then for degree 1 the resulting df would have columns [a,b,c]\n",
    "    for degree 2, we multiply each of X.columns with the resulting matrix from degree 1\n",
    "    [a,b,c]*a -> aa,ab,ac\n",
    "    [a,b,c]*b -> ab,bb,bc\n",
    "    [a,b,c]*c -> ac,bc,cc\n",
    "    by observing the pattern we can see that for every col, the multiplications before col*i are redundant\"\"\"\n",
    "    \n",
    "    poly_fts = X.copy()\n",
    "    tmp_df = X.copy()     \n",
    "\n",
    "    for i in range(2, degree + 1):\n",
    "        #create new 'degree' list to which the rest will be compared\n",
    "        current_df = pd.DataFrame()\n",
    "        start = False\n",
    "\n",
    "        for c in X:\n",
    "            #reset boolean for each col \n",
    "            start = False\n",
    "            for col in tmp_df:\n",
    "                col_name = f\"{c}{col}\"\n",
    "                \n",
    "                if(col_name == c*i):\n",
    "                    start = True\n",
    "                \n",
    "                if(start==True):                    \n",
    "                    #calc new feature \n",
    "                    new_feature = tmp_df.loc[:, col] * X.loc[:, c] \n",
    "\n",
    "                    #add new feature to dataframe that will be returned\n",
    "                    poly_fts[col_name] = new_feature\n",
    "                    \n",
    "                    #add to 'degree' list \n",
    "                    current_df[col_name] = new_feature\n",
    "\n",
    "        tmp_df = current_df\n",
    "    \n",
    "    #adding the bias column to the beginning of the dataframe\n",
    "    first_col = np.ones(X.shape[0]).tolist()\n",
    "    poly_fts.insert(loc=0, column = \"bias\", value=first_col)\n",
    "    return poly_fts"
   ]
  },
  {
   "cell_type": "code",
   "execution_count": 32,
   "id": "46a3783b",
   "metadata": {},
   "outputs": [],
   "source": [
    "X_train, X_test, Y_train, Y_test = train_test_split(X, Y, test_size = 0.2,shuffle=True, random_state = 16)\n"
   ]
  },
  {
   "cell_type": "code",
   "execution_count": 33,
   "id": "e45cc60f",
   "metadata": {
    "scrolled": false
   },
   "outputs": [],
   "source": [
    "def mse(deg):\n",
    "    for i in range(deg):\n",
    "        print(\"\\ndegree: \", i)\n",
    "        ftsTrain = polynomial_fts(X_train, i)\n",
    "        ftsTest = polynomial_fts(X_test, i)\n",
    "\n",
    "        # Create linear regression object\n",
    "        regr = linear_model.LinearRegression()\n",
    "\n",
    "        # Train the model using the training sets\n",
    "        regr.fit(ftsTrain, Y_train)\n",
    "\n",
    "        # Make predictions using the training set\n",
    "        y_pred_train = regr.predict(ftsTrain)\n",
    "\n",
    "        # Make predictions using the testing set\n",
    "        y_pred_test = regr.predict(ftsTest)\n",
    "\n",
    "        # The coefficients\n",
    "        #print(\"Coefficients: \\n\", regr.coef_)\n",
    "        #print(\"Intercept: \", regr.intercept_)\n",
    "        # The mean squared error\n",
    "        print(\"Mean squared error of train is: \", mean_squared_error(Y_train, y_pred_train))\n",
    "        print(\"Mean squared error of test is: \", mean_squared_error(Y_test, y_pred_test))\n",
    "        \n",
    "    "
   ]
  },
  {
   "cell_type": "code",
   "execution_count": 34,
   "id": "f715b2a5",
   "metadata": {
    "scrolled": false
   },
   "outputs": [
    {
     "name": "stdout",
     "output_type": "stream",
     "text": [
      "\n",
      "degree:  0\n",
      "Mean squared error of train is:  5.212426808419098\n",
      "Mean squared error of test is:  5.224550798634713\n",
      "\n",
      "degree:  1\n",
      "Mean squared error of train is:  5.212426808419098\n",
      "Mean squared error of test is:  5.224550798634713\n",
      "\n",
      "degree:  2\n",
      "Mean squared error of train is:  5.210520510694536\n",
      "Mean squared error of test is:  5.222238216663904\n",
      "\n",
      "degree:  3\n",
      "Mean squared error of train is:  5.207130498804473\n",
      "Mean squared error of test is:  5.219381091617662\n",
      "\n",
      "degree:  4\n",
      "Mean squared error of train is:  5.203950816667608\n",
      "Mean squared error of test is:  5.216415116346207\n",
      "\n",
      "degree:  5\n",
      "Mean squared error of train is:  5.197112763354189\n",
      "Mean squared error of test is:  5.240598830728179\n",
      "\n",
      "degree:  6\n",
      "Mean squared error of train is:  5.191445396642641\n",
      "Mean squared error of test is:  5.247260444534401\n",
      "\n",
      "degree:  7\n",
      "Mean squared error of train is:  5.190147482716535\n",
      "Mean squared error of test is:  5.24542337286627\n",
      "\n",
      "degree:  8\n",
      "Mean squared error of train is:  5.190918762650586\n",
      "Mean squared error of test is:  5.242104335782804\n",
      "\n",
      "degree:  9\n",
      "Mean squared error of train is:  5.267251320609068\n",
      "Mean squared error of test is:  5.3228565283058575\n"
     ]
    }
   ],
   "source": [
    "'''To choose the best degree, we can loop over a sample of degrees (for example the first 10), and choose the \n",
    "degree with the least test error before it starts increasing again (indicating overfitting)'''\n",
    "mse(10)"
   ]
  }
 ],
 "metadata": {
  "kernelspec": {
   "display_name": "Python 3 (ipykernel)",
   "language": "python",
   "name": "python3"
  },
  "language_info": {
   "codemirror_mode": {
    "name": "ipython",
    "version": 3
   },
   "file_extension": ".py",
   "mimetype": "text/x-python",
   "name": "python",
   "nbconvert_exporter": "python",
   "pygments_lexer": "ipython3",
   "version": "3.9.12"
  }
 },
 "nbformat": 4,
 "nbformat_minor": 5
}
